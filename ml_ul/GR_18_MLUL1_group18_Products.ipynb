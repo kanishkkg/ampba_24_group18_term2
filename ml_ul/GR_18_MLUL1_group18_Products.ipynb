{
  "nbformat": 4,
  "nbformat_minor": 0,
  "metadata": {
    "colab": {
      "provenance": [],
      "authorship_tag": "ABX9TyPxvMow5n3EW6ZDO2CCLTM/",
      "include_colab_link": true
    },
    "kernelspec": {
      "name": "python3",
      "display_name": "Python 3"
    },
    "language_info": {
      "name": "python"
    }
  },
  "cells": [
    {
      "cell_type": "markdown",
      "metadata": {
        "id": "view-in-github",
        "colab_type": "text"
      },
      "source": [
        "<a href=\"https://colab.research.google.com/github/kanishkkg/ampba_24_group18_term2/blob/main/ml_ul/GR_18_MLUL1_group18_Products.ipynb\" target=\"_parent\"><img src=\"https://colab.research.google.com/assets/colab-badge.svg\" alt=\"Open In Colab\"/></a>"
      ]
    },
    {
      "cell_type": "markdown",
      "source": [
        "# Jupyter notebook submission created by Group 18\n",
        "* Kanishk Kumar Gupta - 12310008"
      ],
      "metadata": {
        "id": "8Ro3aS0b0sGm"
      }
    },
    {
      "cell_type": "markdown",
      "source": [
        "## Part (2/2) - Product Clustering and Segementation"
      ],
      "metadata": {
        "id": "oUhbxxuQ0zDJ"
      }
    },
    {
      "cell_type": "markdown",
      "source": [
        "### Installing relevant libraries"
      ],
      "metadata": {
        "id": "YLfOfoQe054K"
      }
    },
    {
      "cell_type": "code",
      "source": [
        "import pandas as pd\n",
        "import numpy as np\n",
        "import string\n",
        "\n",
        "!pip install scikit-learn --upgrade\n",
        "from sklearn.cluster import KMeans, AgglomerativeClustering, HDBSCAN\n",
        "from sklearn.preprocessing import StandardScaler, OneHotEncoder\n",
        "from sklearn.metrics import silhouette_score\n",
        "\n",
        "from matplotlib import pyplot as plt\n",
        "import seaborn as sns\n",
        "\n",
        "import warnings\n",
        "warnings.filterwarnings('ignore')"
      ],
      "metadata": {
        "colab": {
          "base_uri": "https://localhost:8080/"
        },
        "id": "rcrK_Fcx1F98",
        "outputId": "99832b8e-09f2-4a71-d4cb-090123489737"
      },
      "execution_count": 32,
      "outputs": [
        {
          "output_type": "stream",
          "name": "stdout",
          "text": [
            "Requirement already satisfied: scikit-learn in c:\\users\\kanis\\anaconda3\\lib\\site-packages (1.3.2)\n",
            "Requirement already satisfied: numpy<2.0,>=1.17.3 in c:\\users\\kanis\\anaconda3\\lib\\site-packages (from scikit-learn) (1.24.3)\n",
            "Requirement already satisfied: scipy>=1.5.0 in c:\\users\\kanis\\anaconda3\\lib\\site-packages (from scikit-learn) (1.11.1)\n",
            "Requirement already satisfied: joblib>=1.1.1 in c:\\users\\kanis\\anaconda3\\lib\\site-packages (from scikit-learn) (1.2.0)\n",
            "Requirement already satisfied: threadpoolctl>=2.0.0 in c:\\users\\kanis\\anaconda3\\lib\\site-packages (from scikit-learn) (2.2.0)\n"
          ]
        }
      ]
    },
    {
      "cell_type": "markdown",
      "source": [
        "### Reading the data"
      ],
      "metadata": {
        "id": "tjc225911OzE"
      }
    },
    {
      "cell_type": "code",
      "source": [
        "url = 'https://raw.githubusercontent.com/kanishkkg/ampba_24_group18_term2/main/ml_ul/Champo%20Carpets%20V1.csv'"
      ],
      "metadata": {
        "id": "amS-dyk11QLS"
      },
      "execution_count": 33,
      "outputs": []
    },
    {
      "cell_type": "code",
      "source": [
        "base_data = pd.read_csv(url)"
      ],
      "metadata": {
        "id": "CD7T8IXF1VK8"
      },
      "execution_count": 34,
      "outputs": []
    },
    {
      "cell_type": "code",
      "source": [
        "base_data.head()"
      ],
      "metadata": {
        "colab": {
          "base_uri": "https://localhost:8080/",
          "height": 206
        },
        "id": "SIBEwP0n3IXp",
        "outputId": "3c0b6faa-2f91-4fb4-ffcf-0c41b9be38df"
      },
      "execution_count": 35,
      "outputs": [
        {
          "output_type": "execute_result",
          "data": {
            "text/plain": [
              "   OrderiD  Item_Id CustomerCode CountryName customer_country  QtyRequired  \\\n",
              "0        1        5          H-1         USA           H-1USA            6   \n",
              "1        1       26          H-1         USA           H-1USA            6   \n",
              "2        1       17          H-1         USA           H-1USA            7   \n",
              "3        1      496          H-1         USA           H-1USA            7   \n",
              "4        1       30          H-1         USA           H-1USA            5   \n",
              "\n",
              "   TotalArea  Amount    ITEM_NAME            QualityName         DesignName  \\\n",
              "0     128.25   769.5  HAND TUFTED  TUFTED 30C HARD TWIST  OLD LONDON [3715]   \n",
              "1     117.00   702.0  HAND TUFTED             TUFTED 60C      DUDLEY [9012]   \n",
              "2      88.00   616.0  HAND TUFTED             TUFTED 60C    WEMBLY [CC-206]   \n",
              "3      88.00   616.0  HAND TUFTED             TUFTED 60C    SYMPHONY [8900]   \n",
              "4     117.00   585.0  HAND TUFTED             TUFTED 60C      DUDLEY [9012]   \n",
              "\n",
              "     ColorName ShapeName  \n",
              "0  GREEN/IVORY       REC  \n",
              "1        BEIGE       REC  \n",
              "2   BEIGE/SAGE       REC  \n",
              "3     CHARCOAL       REC  \n",
              "4   NAVY/BEIGE       REC  "
            ],
            "text/html": [
              "<div>\n",
              "<style scoped>\n",
              "    .dataframe tbody tr th:only-of-type {\n",
              "        vertical-align: middle;\n",
              "    }\n",
              "\n",
              "    .dataframe tbody tr th {\n",
              "        vertical-align: top;\n",
              "    }\n",
              "\n",
              "    .dataframe thead th {\n",
              "        text-align: right;\n",
              "    }\n",
              "</style>\n",
              "<table border=\"1\" class=\"dataframe\">\n",
              "  <thead>\n",
              "    <tr style=\"text-align: right;\">\n",
              "      <th></th>\n",
              "      <th>OrderiD</th>\n",
              "      <th>Item_Id</th>\n",
              "      <th>CustomerCode</th>\n",
              "      <th>CountryName</th>\n",
              "      <th>customer_country</th>\n",
              "      <th>QtyRequired</th>\n",
              "      <th>TotalArea</th>\n",
              "      <th>Amount</th>\n",
              "      <th>ITEM_NAME</th>\n",
              "      <th>QualityName</th>\n",
              "      <th>DesignName</th>\n",
              "      <th>ColorName</th>\n",
              "      <th>ShapeName</th>\n",
              "    </tr>\n",
              "  </thead>\n",
              "  <tbody>\n",
              "    <tr>\n",
              "      <th>0</th>\n",
              "      <td>1</td>\n",
              "      <td>5</td>\n",
              "      <td>H-1</td>\n",
              "      <td>USA</td>\n",
              "      <td>H-1USA</td>\n",
              "      <td>6</td>\n",
              "      <td>128.25</td>\n",
              "      <td>769.5</td>\n",
              "      <td>HAND TUFTED</td>\n",
              "      <td>TUFTED 30C HARD TWIST</td>\n",
              "      <td>OLD LONDON [3715]</td>\n",
              "      <td>GREEN/IVORY</td>\n",
              "      <td>REC</td>\n",
              "    </tr>\n",
              "    <tr>\n",
              "      <th>1</th>\n",
              "      <td>1</td>\n",
              "      <td>26</td>\n",
              "      <td>H-1</td>\n",
              "      <td>USA</td>\n",
              "      <td>H-1USA</td>\n",
              "      <td>6</td>\n",
              "      <td>117.00</td>\n",
              "      <td>702.0</td>\n",
              "      <td>HAND TUFTED</td>\n",
              "      <td>TUFTED 60C</td>\n",
              "      <td>DUDLEY [9012]</td>\n",
              "      <td>BEIGE</td>\n",
              "      <td>REC</td>\n",
              "    </tr>\n",
              "    <tr>\n",
              "      <th>2</th>\n",
              "      <td>1</td>\n",
              "      <td>17</td>\n",
              "      <td>H-1</td>\n",
              "      <td>USA</td>\n",
              "      <td>H-1USA</td>\n",
              "      <td>7</td>\n",
              "      <td>88.00</td>\n",
              "      <td>616.0</td>\n",
              "      <td>HAND TUFTED</td>\n",
              "      <td>TUFTED 60C</td>\n",
              "      <td>WEMBLY [CC-206]</td>\n",
              "      <td>BEIGE/SAGE</td>\n",
              "      <td>REC</td>\n",
              "    </tr>\n",
              "    <tr>\n",
              "      <th>3</th>\n",
              "      <td>1</td>\n",
              "      <td>496</td>\n",
              "      <td>H-1</td>\n",
              "      <td>USA</td>\n",
              "      <td>H-1USA</td>\n",
              "      <td>7</td>\n",
              "      <td>88.00</td>\n",
              "      <td>616.0</td>\n",
              "      <td>HAND TUFTED</td>\n",
              "      <td>TUFTED 60C</td>\n",
              "      <td>SYMPHONY [8900]</td>\n",
              "      <td>CHARCOAL</td>\n",
              "      <td>REC</td>\n",
              "    </tr>\n",
              "    <tr>\n",
              "      <th>4</th>\n",
              "      <td>1</td>\n",
              "      <td>30</td>\n",
              "      <td>H-1</td>\n",
              "      <td>USA</td>\n",
              "      <td>H-1USA</td>\n",
              "      <td>5</td>\n",
              "      <td>117.00</td>\n",
              "      <td>585.0</td>\n",
              "      <td>HAND TUFTED</td>\n",
              "      <td>TUFTED 60C</td>\n",
              "      <td>DUDLEY [9012]</td>\n",
              "      <td>NAVY/BEIGE</td>\n",
              "      <td>REC</td>\n",
              "    </tr>\n",
              "  </tbody>\n",
              "</table>\n",
              "</div>"
            ]
          },
          "metadata": {},
          "execution_count": 35
        }
      ]
    },
    {
      "cell_type": "code",
      "source": [
        "base_data.drop_duplicates(inplace=True)"
      ],
      "metadata": {
        "id": "xziFJ7jg700g"
      },
      "execution_count": 36,
      "outputs": []
    },
    {
      "cell_type": "markdown",
      "source": [
        "### Product Segmentation"
      ],
      "metadata": {
        "id": "4bYbKgB21Ys2"
      }
    },
    {
      "cell_type": "code",
      "source": [
        "item_data = base_data.copy(deep=True)"
      ],
      "metadata": {
        "id": "8k4s71oy2NMI"
      },
      "execution_count": 37,
      "outputs": []
    },
    {
      "cell_type": "code",
      "source": [
        "# Checking if each item as a unique shape or not\n",
        "agg_data = item_data.groupby('Item_Id').agg(\n",
        "    unique_shapes=('ShapeName', 'nunique')\n",
        ").reset_index()\n",
        "agg_data[agg_data['unique_shapes'] != 1]"
      ],
      "metadata": {
        "colab": {
          "base_uri": "https://localhost:8080/",
          "height": 49
        },
        "id": "6MxAM1hN7BlP",
        "outputId": "e2f64243-f336-4568-9bc3-537b7086bb29"
      },
      "execution_count": 38,
      "outputs": [
        {
          "output_type": "execute_result",
          "data": {
            "text/plain": [
              "Empty DataFrame\n",
              "Columns: [Item_Id, unique_shapes]\n",
              "Index: []"
            ],
            "text/html": [
              "<div>\n",
              "<style scoped>\n",
              "    .dataframe tbody tr th:only-of-type {\n",
              "        vertical-align: middle;\n",
              "    }\n",
              "\n",
              "    .dataframe tbody tr th {\n",
              "        vertical-align: top;\n",
              "    }\n",
              "\n",
              "    .dataframe thead th {\n",
              "        text-align: right;\n",
              "    }\n",
              "</style>\n",
              "<table border=\"1\" class=\"dataframe\">\n",
              "  <thead>\n",
              "    <tr style=\"text-align: right;\">\n",
              "      <th></th>\n",
              "      <th>Item_Id</th>\n",
              "      <th>unique_shapes</th>\n",
              "    </tr>\n",
              "  </thead>\n",
              "  <tbody>\n",
              "  </tbody>\n",
              "</table>\n",
              "</div>"
            ]
          },
          "metadata": {},
          "execution_count": 38
        }
      ]
    },
    {
      "cell_type": "code",
      "source": [
        "len(item_data['ShapeName'].value_counts())"
      ],
      "metadata": {
        "id": "AoGdGMGjPtuU",
        "outputId": "94e83a3f-b632-4670-c688-d36a3a4ae096",
        "colab": {
          "base_uri": "https://localhost:8080/"
        }
      },
      "execution_count": 47,
      "outputs": [
        {
          "output_type": "execute_result",
          "data": {
            "text/plain": [
              "5"
            ]
          },
          "metadata": {},
          "execution_count": 47
        }
      ]
    },
    {
      "cell_type": "code",
      "source": [
        "item_data['price'] = item_data['Amount']/item_data['QtyRequired']\n",
        "\n",
        "item_data[['Item_Id', 'price']]\n",
        "\n",
        "agg_data = item_data.groupby('Item_Id').agg(\n",
        "    min_price=('price', 'min'),\n",
        "    max_price=('price', 'max'),\n",
        ").reset_index()\n",
        "\n",
        "agg_data[agg_data['min_price'] != agg_data['max_price']]"
      ],
      "metadata": {
        "id": "zYFFsIWVREGJ",
        "outputId": "d93bb9f5-fdae-4601-dc7f-d83e4db4b873",
        "colab": {
          "base_uri": "https://localhost:8080/",
          "height": 423
        }
      },
      "execution_count": 51,
      "outputs": [
        {
          "output_type": "execute_result",
          "data": {
            "text/plain": [
              "      Item_Id  min_price  max_price\n",
              "10         11      71.25  195.93000\n",
              "48         52       0.00  165.60000\n",
              "49         55      80.00  160.00000\n",
              "52         58       0.00  160.00000\n",
              "56         64      80.00  160.00000\n",
              "...       ...        ...        ...\n",
              "5809    45871       6.75    6.91875\n",
              "5811    45873       6.75    6.91875\n",
              "5814    45880       6.75    6.91875\n",
              "5816    45882       6.75    6.91875\n",
              "5818    45884       6.75    6.91875\n",
              "\n",
              "[1323 rows x 3 columns]"
            ],
            "text/html": [
              "<div>\n",
              "<style scoped>\n",
              "    .dataframe tbody tr th:only-of-type {\n",
              "        vertical-align: middle;\n",
              "    }\n",
              "\n",
              "    .dataframe tbody tr th {\n",
              "        vertical-align: top;\n",
              "    }\n",
              "\n",
              "    .dataframe thead th {\n",
              "        text-align: right;\n",
              "    }\n",
              "</style>\n",
              "<table border=\"1\" class=\"dataframe\">\n",
              "  <thead>\n",
              "    <tr style=\"text-align: right;\">\n",
              "      <th></th>\n",
              "      <th>Item_Id</th>\n",
              "      <th>min_price</th>\n",
              "      <th>max_price</th>\n",
              "    </tr>\n",
              "  </thead>\n",
              "  <tbody>\n",
              "    <tr>\n",
              "      <th>10</th>\n",
              "      <td>11</td>\n",
              "      <td>71.25</td>\n",
              "      <td>195.93000</td>\n",
              "    </tr>\n",
              "    <tr>\n",
              "      <th>48</th>\n",
              "      <td>52</td>\n",
              "      <td>0.00</td>\n",
              "      <td>165.60000</td>\n",
              "    </tr>\n",
              "    <tr>\n",
              "      <th>49</th>\n",
              "      <td>55</td>\n",
              "      <td>80.00</td>\n",
              "      <td>160.00000</td>\n",
              "    </tr>\n",
              "    <tr>\n",
              "      <th>52</th>\n",
              "      <td>58</td>\n",
              "      <td>0.00</td>\n",
              "      <td>160.00000</td>\n",
              "    </tr>\n",
              "    <tr>\n",
              "      <th>56</th>\n",
              "      <td>64</td>\n",
              "      <td>80.00</td>\n",
              "      <td>160.00000</td>\n",
              "    </tr>\n",
              "    <tr>\n",
              "      <th>...</th>\n",
              "      <td>...</td>\n",
              "      <td>...</td>\n",
              "      <td>...</td>\n",
              "    </tr>\n",
              "    <tr>\n",
              "      <th>5809</th>\n",
              "      <td>45871</td>\n",
              "      <td>6.75</td>\n",
              "      <td>6.91875</td>\n",
              "    </tr>\n",
              "    <tr>\n",
              "      <th>5811</th>\n",
              "      <td>45873</td>\n",
              "      <td>6.75</td>\n",
              "      <td>6.91875</td>\n",
              "    </tr>\n",
              "    <tr>\n",
              "      <th>5814</th>\n",
              "      <td>45880</td>\n",
              "      <td>6.75</td>\n",
              "      <td>6.91875</td>\n",
              "    </tr>\n",
              "    <tr>\n",
              "      <th>5816</th>\n",
              "      <td>45882</td>\n",
              "      <td>6.75</td>\n",
              "      <td>6.91875</td>\n",
              "    </tr>\n",
              "    <tr>\n",
              "      <th>5818</th>\n",
              "      <td>45884</td>\n",
              "      <td>6.75</td>\n",
              "      <td>6.91875</td>\n",
              "    </tr>\n",
              "  </tbody>\n",
              "</table>\n",
              "<p>1323 rows × 3 columns</p>\n",
              "</div>"
            ]
          },
          "metadata": {},
          "execution_count": 51
        }
      ]
    },
    {
      "cell_type": "code",
      "source": [
        "item_agg_data = item_data.groupby('Item_Id').agg(\n",
        "    total_quantity=('QtyRequired','sum'),\n",
        "    total_revenue=(\"Amount\", \"sum\"),\n",
        "    num_of_customers=(\"customer_country\", \"nunique\"),\n",
        "    average_quantity=(\"QtyRequired\", 'mean'),\n",
        "    total_area=(\"TotalArea\", \"sum\"),\n",
        "    average_area=(\"TotalArea\", \"mean\")\n",
        ").reset_index()\n",
        "\n",
        "item_agg_data"
      ],
      "metadata": {
        "colab": {
          "base_uri": "https://localhost:8080/",
          "height": 423
        },
        "id": "2o4RDOoX4UOF",
        "outputId": "5e93ed88-f9e2-42b9-b5bd-3f8686df1b9a"
      },
      "execution_count": 39,
      "outputs": [
        {
          "output_type": "execute_result",
          "data": {
            "text/plain": [
              "      Item_Id  total_quantity  total_revenue  num_of_customers  \\\n",
              "0           1               2          12.00                 1   \n",
              "1           2               2          18.00                 1   \n",
              "2           3               7         378.00                 1   \n",
              "3           4               9         641.25                 1   \n",
              "4           5              22        2821.50                 1   \n",
              "...       ...             ...            ...               ...   \n",
              "5870    46697              28         663.60                 1   \n",
              "5871    46698              10         888.70                 1   \n",
              "5872    46699              15        4740.00                 1   \n",
              "5873    46700               7        2986.20                 1   \n",
              "5874    46701              23        1362.75                 1   \n",
              "\n",
              "      average_quantity  total_area  average_area  \n",
              "0                  2.0         6.0          6.00  \n",
              "1                  2.0         9.0          9.00  \n",
              "2                  3.5       108.0         54.00  \n",
              "3                  4.5       142.5         71.25  \n",
              "4                 11.0       256.5        128.25  \n",
              "...                ...         ...           ...  \n",
              "5870              28.0         6.0          6.00  \n",
              "5871              10.0        22.5         22.50  \n",
              "5872              15.0        80.0         80.00  \n",
              "5873               7.0       108.0        108.00  \n",
              "5874              23.0        15.0         15.00  \n",
              "\n",
              "[5875 rows x 7 columns]"
            ],
            "text/html": [
              "<div>\n",
              "<style scoped>\n",
              "    .dataframe tbody tr th:only-of-type {\n",
              "        vertical-align: middle;\n",
              "    }\n",
              "\n",
              "    .dataframe tbody tr th {\n",
              "        vertical-align: top;\n",
              "    }\n",
              "\n",
              "    .dataframe thead th {\n",
              "        text-align: right;\n",
              "    }\n",
              "</style>\n",
              "<table border=\"1\" class=\"dataframe\">\n",
              "  <thead>\n",
              "    <tr style=\"text-align: right;\">\n",
              "      <th></th>\n",
              "      <th>Item_Id</th>\n",
              "      <th>total_quantity</th>\n",
              "      <th>total_revenue</th>\n",
              "      <th>num_of_customers</th>\n",
              "      <th>average_quantity</th>\n",
              "      <th>total_area</th>\n",
              "      <th>average_area</th>\n",
              "    </tr>\n",
              "  </thead>\n",
              "  <tbody>\n",
              "    <tr>\n",
              "      <th>0</th>\n",
              "      <td>1</td>\n",
              "      <td>2</td>\n",
              "      <td>12.00</td>\n",
              "      <td>1</td>\n",
              "      <td>2.0</td>\n",
              "      <td>6.0</td>\n",
              "      <td>6.00</td>\n",
              "    </tr>\n",
              "    <tr>\n",
              "      <th>1</th>\n",
              "      <td>2</td>\n",
              "      <td>2</td>\n",
              "      <td>18.00</td>\n",
              "      <td>1</td>\n",
              "      <td>2.0</td>\n",
              "      <td>9.0</td>\n",
              "      <td>9.00</td>\n",
              "    </tr>\n",
              "    <tr>\n",
              "      <th>2</th>\n",
              "      <td>3</td>\n",
              "      <td>7</td>\n",
              "      <td>378.00</td>\n",
              "      <td>1</td>\n",
              "      <td>3.5</td>\n",
              "      <td>108.0</td>\n",
              "      <td>54.00</td>\n",
              "    </tr>\n",
              "    <tr>\n",
              "      <th>3</th>\n",
              "      <td>4</td>\n",
              "      <td>9</td>\n",
              "      <td>641.25</td>\n",
              "      <td>1</td>\n",
              "      <td>4.5</td>\n",
              "      <td>142.5</td>\n",
              "      <td>71.25</td>\n",
              "    </tr>\n",
              "    <tr>\n",
              "      <th>4</th>\n",
              "      <td>5</td>\n",
              "      <td>22</td>\n",
              "      <td>2821.50</td>\n",
              "      <td>1</td>\n",
              "      <td>11.0</td>\n",
              "      <td>256.5</td>\n",
              "      <td>128.25</td>\n",
              "    </tr>\n",
              "    <tr>\n",
              "      <th>...</th>\n",
              "      <td>...</td>\n",
              "      <td>...</td>\n",
              "      <td>...</td>\n",
              "      <td>...</td>\n",
              "      <td>...</td>\n",
              "      <td>...</td>\n",
              "      <td>...</td>\n",
              "    </tr>\n",
              "    <tr>\n",
              "      <th>5870</th>\n",
              "      <td>46697</td>\n",
              "      <td>28</td>\n",
              "      <td>663.60</td>\n",
              "      <td>1</td>\n",
              "      <td>28.0</td>\n",
              "      <td>6.0</td>\n",
              "      <td>6.00</td>\n",
              "    </tr>\n",
              "    <tr>\n",
              "      <th>5871</th>\n",
              "      <td>46698</td>\n",
              "      <td>10</td>\n",
              "      <td>888.70</td>\n",
              "      <td>1</td>\n",
              "      <td>10.0</td>\n",
              "      <td>22.5</td>\n",
              "      <td>22.50</td>\n",
              "    </tr>\n",
              "    <tr>\n",
              "      <th>5872</th>\n",
              "      <td>46699</td>\n",
              "      <td>15</td>\n",
              "      <td>4740.00</td>\n",
              "      <td>1</td>\n",
              "      <td>15.0</td>\n",
              "      <td>80.0</td>\n",
              "      <td>80.00</td>\n",
              "    </tr>\n",
              "    <tr>\n",
              "      <th>5873</th>\n",
              "      <td>46700</td>\n",
              "      <td>7</td>\n",
              "      <td>2986.20</td>\n",
              "      <td>1</td>\n",
              "      <td>7.0</td>\n",
              "      <td>108.0</td>\n",
              "      <td>108.00</td>\n",
              "    </tr>\n",
              "    <tr>\n",
              "      <th>5874</th>\n",
              "      <td>46701</td>\n",
              "      <td>23</td>\n",
              "      <td>1362.75</td>\n",
              "      <td>1</td>\n",
              "      <td>23.0</td>\n",
              "      <td>15.0</td>\n",
              "      <td>15.00</td>\n",
              "    </tr>\n",
              "  </tbody>\n",
              "</table>\n",
              "<p>5875 rows × 7 columns</p>\n",
              "</div>"
            ]
          },
          "metadata": {},
          "execution_count": 39
        }
      ]
    },
    {
      "cell_type": "code",
      "source": [],
      "metadata": {
        "id": "VYwYB9pNQ-ID"
      },
      "execution_count": null,
      "outputs": []
    },
    {
      "cell_type": "code",
      "source": [
        "from sklearn.preprocessing import StandardScaler\n",
        "\n",
        "scaler = StandardScaler()\n",
        "scaled_features = scaler.fit_transform(item_agg_data[['total_quantity', 'total_revenue', 'num_of_customers',\n",
        "                                                      'average_quantity', 'total_area', 'average_area']])"
      ],
      "metadata": {
        "id": "AJaMPvfALM19"
      },
      "execution_count": 40,
      "outputs": []
    },
    {
      "cell_type": "code",
      "source": [
        "from sklearn.cluster import KMeans\n",
        "from sklearn.metrics import silhouette_score\n",
        "import matplotlib.pyplot as plt\n",
        "\n",
        "# Assuming 'scaled_features' is the scaled version of item_agg_data\n",
        "\n",
        "sse = []\n",
        "silhouette_scores = []\n",
        "for k in range(2, 11):\n",
        "    kmeans = KMeans(n_clusters=k, random_state=42)\n",
        "    kmeans.fit(scaled_features)\n",
        "    sse.append(kmeans.inertia_)\n",
        "    silhouette_scores.append(silhouette_score(scaled_features, kmeans.labels_))\n",
        "\n",
        "# Plotting the Elbow Method and Silhouette Scores\n",
        "fig, ax1 = plt.subplots()\n",
        "ax2 = ax1.twinx()\n",
        "ax1.plot(range(2, 11), sse, 'go-')\n",
        "ax2.plot(range(2, 11), silhouette_scores, 'ro-')\n",
        "\n",
        "ax1.set_xlabel('Number of clusters')\n",
        "ax1.set_ylabel('SSE', color='g')\n",
        "ax2.set_ylabel('Silhouette Score', color='r')\n",
        "\n",
        "plt.show()\n"
      ],
      "metadata": {
        "id": "IxmK7By8GjgL",
        "outputId": "e05006c4-6c07-46e9-876f-479eb5aa3214",
        "colab": {
          "base_uri": "https://localhost:8080/",
          "height": 449
        }
      },
      "execution_count": 41,
      "outputs": [
        {
          "output_type": "display_data",
          "data": {
            "text/plain": [
              "<Figure size 640x480 with 2 Axes>"
            ],
            "image/png": "[encoded data removed]"
          },
          "metadata": {}
        }
      ]
    },
    {
      "cell_type": "code",
      "source": [
        "from sklearn.cluster import KMeans\n",
        "\n",
        "# Determine the number of clusters (this can be fine-tuned)\n",
        "n_clusters = 8  # Example number of clusters\n",
        "kmeans = KMeans(n_clusters=n_clusters, random_state=0)\n",
        "clusters = kmeans.fit_predict(scaled_features)\n",
        "\n",
        "# Adding cluster labels to the original data\n",
        "item_agg_data['Cluster'] = clusters\n"
      ],
      "metadata": {
        "id": "3fHJEDjFHUS_"
      },
      "execution_count": 42,
      "outputs": []
    },
    {
      "cell_type": "code",
      "source": [
        "# Analyzing each cluster\n",
        "for i in range(n_clusters):\n",
        "    cluster_data = item_agg_data[item_agg_data['Cluster'] == i]\n",
        "    print(f\"\\nCluster {i}:\")\n",
        "    print(cluster_data.describe())\n"
      ],
      "metadata": {
        "id": "-cClpn46J7bI",
        "outputId": "fa72fe7f-d74a-44a9-90fe-425669f8daed",
        "colab": {
          "base_uri": "https://localhost:8080/"
        }
      },
      "execution_count": 43,
      "outputs": [
        {
          "output_type": "stream",
          "name": "stdout",
          "text": [
            "\n",
            "Cluster 0:\n",
            "            Item_Id  total_quantity  total_revenue  num_of_customers  \\\n",
            "count    143.000000      143.000000     143.000000             143.0   \n",
            "mean    6726.636364       69.818182   21502.954965               1.0   \n",
            "std     7820.135098       97.194566   26289.072243               0.0   \n",
            "min       80.000000        1.000000     210.000000               1.0   \n",
            "25%     1451.000000       15.000000    5663.000000               1.0   \n",
            "50%     3313.000000       36.000000   11221.200000               1.0   \n",
            "75%    11215.000000       75.500000   25802.000000               1.0   \n",
            "max    31370.000000      709.000000  163347.040000               1.0   \n",
            "\n",
            "       average_quantity   total_area  average_area  Cluster  \n",
            "count        143.000000   143.000000    143.000000    143.0  \n",
            "mean           6.704921  1077.713566    147.030457      0.0  \n",
            "std            6.923385   385.063081    113.451246      0.0  \n",
            "min            1.000000   450.000000     37.400000      0.0  \n",
            "25%            2.519231   756.000000     89.810000      0.0  \n",
            "50%            4.062500   980.000000    140.000000      0.0  \n",
            "75%            8.478070  1296.000000    180.000000      0.0  \n",
            "max           45.875000  2380.000000   1024.000000      0.0  \n",
            "\n",
            "Cluster 1:\n",
            "            Item_Id  total_quantity  total_revenue  num_of_customers  \\\n",
            "count    299.000000      299.000000     299.000000             299.0   \n",
            "mean   31337.862876      693.856187   12243.247592               1.0   \n",
            "std    10775.464343      401.969108   17861.857821               0.0   \n",
            "min     2231.000000      300.000000       0.000000               1.0   \n",
            "25%    25290.500000      400.000000    3379.500000               1.0   \n",
            "50%    32692.000000      600.000000    4725.000000               1.0   \n",
            "75%    41072.000000      827.500000   12750.000000               1.0   \n",
            "max    46000.000000     2590.000000  134003.700000               1.0   \n",
            "\n",
            "       average_quantity  total_area  average_area  Cluster  \n",
            "count        299.000000  299.000000    299.000000    299.0  \n",
            "mean         433.205097   34.758610     13.186998      1.0  \n",
            "std          262.974247   67.066391     15.353100      0.0  \n",
            "min           28.875000    0.334300      0.334300      1.0  \n",
            "25%          265.000000    1.368600      0.960000      1.0  \n",
            "50%          350.000000   15.000000      8.437500      1.0  \n",
            "75%          516.000000   25.312500     15.000000      1.0  \n",
            "max         1608.000000  540.000000     80.000000      1.0  \n",
            "\n",
            "Cluster 2:\n",
            "            Item_Id  total_quantity  total_revenue  num_of_customers  \\\n",
            "count    105.000000      105.000000     105.000000        105.000000   \n",
            "mean   10912.380952      220.695238   13241.852059          2.019048   \n",
            "std    10892.580639      347.377818   25888.947422          0.137348   \n",
            "min       52.000000        2.000000      24.000000          2.000000   \n",
            "25%     1445.000000       13.000000    1397.442600          2.000000   \n",
            "50%     6788.000000       40.000000    4482.000000          2.000000   \n",
            "75%    19065.000000      256.000000   11815.200000          2.000000   \n",
            "max    39599.000000     1388.000000  154198.400000          3.000000   \n",
            "\n",
            "       average_quantity   total_area  average_area  Cluster  \n",
            "count        105.000000   105.000000    105.000000    105.0  \n",
            "mean          56.143793   371.031806     59.063007      2.0  \n",
            "std           92.759727   521.348251     45.418693      0.0  \n",
            "min            1.000000     3.600000      1.200000      2.0  \n",
            "25%            3.000000    55.976100     18.540000      2.0  \n",
            "50%            6.666667   160.000000     54.000000      2.0  \n",
            "75%          103.500000   420.000000     80.000000      2.0  \n",
            "max          450.000000  2660.000000    180.000000      2.0  \n",
            "\n",
            "Cluster 3:\n",
            "            Item_Id  total_quantity  total_revenue  num_of_customers  \\\n",
            "count     10.000000       10.000000      10.000000              10.0   \n",
            "mean   41388.600000     5710.000000    6046.000000               1.0   \n",
            "std     2305.848998     1512.503444    1370.970459               0.0   \n",
            "min    35984.000000     4700.000000    4700.000000               1.0   \n",
            "25%    40525.750000     4725.000000    5025.000000               1.0   \n",
            "50%    41843.500000     4800.000000    6080.000000               1.0   \n",
            "75%    43158.750000     6400.000000    6160.000000               1.0   \n",
            "max    43161.000000     9400.000000    9400.000000               1.0   \n",
            "\n",
            "       average_quantity  total_area  average_area  Cluster  \n",
            "count         10.000000   10.000000     10.000000     10.0  \n",
            "mean        5240.000000    1.560410      1.424300      3.0  \n",
            "std          801.664934    0.424185      0.117427      0.0  \n",
            "min         4700.000000    1.361100      1.361100      3.0  \n",
            "25%         4700.000000    1.361100      1.361100      3.0  \n",
            "50%         4800.000000    1.361100      1.361100      3.0  \n",
            "75%         6000.000000    1.500000      1.465275      3.0  \n",
            "max         6400.000000    2.722200      1.715300      3.0  \n",
            "\n",
            "Cluster 4:\n",
            "            Item_Id  total_quantity  total_revenue  num_of_customers  \\\n",
            "count     30.000000        30.00000      30.000000              30.0   \n",
            "mean   27333.933333       146.50000  324908.788667               1.0   \n",
            "std      440.197051       391.14886  124655.388901               0.0   \n",
            "min    27206.000000        48.00000  172343.410000               1.0   \n",
            "25%    27217.250000        58.25000  222259.462500               1.0   \n",
            "50%    27228.000000        72.00000  307342.130000               1.0   \n",
            "75%    27246.750000        92.00000  397746.732500               1.0   \n",
            "max    29643.000000      2215.00000  605669.280000               1.0   \n",
            "\n",
            "       average_quantity   total_area  average_area  Cluster  \n",
            "count         30.000000    30.000000     30.000000     30.0  \n",
            "mean          13.384680   738.466667     88.466667      4.0  \n",
            "std           23.672009   180.889513     20.073543      0.0  \n",
            "min            6.555556   490.000000     54.000000      4.0  \n",
            "25%            8.169643   560.000000     70.000000      4.0  \n",
            "50%            9.104167   756.000000     89.000000      4.0  \n",
            "75%           10.285714   864.000000    108.000000      4.0  \n",
            "max          138.437500  1188.000000    108.000000      4.0  \n",
            "\n",
            "Cluster 5:\n",
            "            Item_Id  total_quantity  total_revenue  num_of_customers  \\\n",
            "count   3985.000000     3985.000000    3985.000000            3985.0   \n",
            "mean   17449.062735       38.869762    1570.715043               1.0   \n",
            "std    13473.302985       66.749801    3656.425567               0.0   \n",
            "min        1.000000        1.000000       0.000000               1.0   \n",
            "25%     5527.000000        4.000000      75.000000               1.0   \n",
            "50%    13313.000000       13.000000     512.223600               1.0   \n",
            "75%    29245.000000       40.000000    1560.000000               1.0   \n",
            "max    46701.000000      609.000000   72147.200000               1.0   \n",
            "\n",
            "       average_quantity   total_area  average_area  Cluster  \n",
            "count       3985.000000  3985.000000   3985.000000   3985.0  \n",
            "mean          21.359688    28.067198     16.354704      5.0  \n",
            "std           33.297277    38.191934     16.676552      0.0  \n",
            "min            1.000000     0.040000      0.040000      5.0  \n",
            "25%            3.000000     3.750000      3.000000      5.0  \n",
            "50%           10.000000    15.000000      8.437500      5.0  \n",
            "75%           24.333333    40.000000     24.000000      5.0  \n",
            "max          265.000000   332.700000     64.000000      5.0  \n",
            "\n",
            "Cluster 6:\n",
            "            Item_Id  total_quantity  total_revenue  num_of_customers  \\\n",
            "count     22.000000       22.000000      22.000000              22.0   \n",
            "mean   37506.363636     4290.181818   69049.000227               1.0   \n",
            "std     4585.192342     1564.690739  101185.687248               0.0   \n",
            "min    29624.000000     2320.000000    2320.000000               1.0   \n",
            "25%    35985.250000     3010.500000   12156.000000               1.0   \n",
            "50%    37334.500000     4052.000000   23402.925000               1.0   \n",
            "75%    40745.750000     5142.000000   71778.000000               1.0   \n",
            "max    45522.000000     8250.000000  382678.120000               1.0   \n",
            "\n",
            "       average_quantity  total_area  average_area  Cluster  \n",
            "count         22.000000   22.000000     22.000000     22.0  \n",
            "mean        1358.271645  100.173668     14.804836      6.0  \n",
            "std          756.644138  149.506565     18.130508      0.0  \n",
            "min          214.642857    1.140000      0.380000      6.0  \n",
            "25%          727.500000    7.500000      3.750000      6.0  \n",
            "50%         1401.750000   45.000000      6.000000      6.0  \n",
            "75%         1750.250000   48.000000     15.000000      6.0  \n",
            "max         2563.500000  462.166800     77.027800      6.0  \n",
            "\n",
            "Cluster 7:\n",
            "            Item_Id  total_quantity  total_revenue  num_of_customers  \\\n",
            "count   1281.000000     1281.000000    1281.000000            1281.0   \n",
            "mean   15955.773614       25.444184    4455.146278               1.0   \n",
            "std    13679.152895       53.854232    8605.740312               0.0   \n",
            "min        4.000000        1.000000       0.000000               1.0   \n",
            "25%     3354.000000        3.000000     704.900000               1.0   \n",
            "50%    11626.000000        8.000000    1600.000000               1.0   \n",
            "75%    28214.000000       23.000000    4410.000000               1.0   \n",
            "max    46700.000000      580.000000   66602.250000               1.0   \n",
            "\n",
            "       average_quantity   total_area  average_area  Cluster  \n",
            "count       1281.000000  1281.000000   1281.000000   1281.0  \n",
            "mean          12.452337   193.427892    106.174863      7.0  \n",
            "std           25.607954   130.590043     40.878985      0.0  \n",
            "min            1.000000    67.062500     34.800000      7.0  \n",
            "25%            2.000000   108.000000     80.000000      7.0  \n",
            "50%            4.750000   140.000000    108.000000      7.0  \n",
            "75%           10.500000   249.750000    121.000000      7.0  \n",
            "max          260.000000   648.000000    360.000000      7.0  \n"
          ]
        }
      ]
    },
    {
      "cell_type": "code",
      "source": [
        "hdbscan = HDBSCAN(min_cluster_size=2, cluster_selection_epsilon=1)\n",
        "customer_agg_data['hdbscan_cluster'] = hdbscan.fit_predict(scaled_features)\n",
        "\n",
        "# Visualizing the clusters\n",
        "plt.figure(figsize=(10, 6))\n",
        "plt.scatter(scaled_features[:, 0], scaled_features[:, 1], c=customer_agg_data['hdbscan_cluster'], cmap='viridis', marker='o')\n",
        "plt.title(\"Customer Segments (HDBSCAN Clustering)\")\n",
        "plt.xlabel(\"Scaled Frequency\")\n",
        "plt.ylabel(\"Scaled Monetary Value\")\n",
        "plt.show()\n",
        "\n",
        "\n",
        "# Checking the count of customers in each cluster\n",
        "cluster_counts = customer_agg_data['hdbscan_cluster'].value_counts().sort_index()\n",
        "\n",
        "# Descriptive statistics for each cluster\n",
        "cluster_description = customer_agg_data.groupby('hdbscan_cluster').agg({\n",
        "    'frequency': ['mean', 'median', 'min', 'max'],\n",
        "    'monetary_value': ['mean', 'median', 'min', 'max']\n",
        "})\n",
        "\n",
        "cluster_counts, cluster_description.round(2)"
      ],
      "metadata": {
        "id": "_RVBcbepLpPu",
        "outputId": "f0e2cac1-870a-4fa2-f2fb-83fb5942994a",
        "colab": {
          "base_uri": "https://localhost:8080/",
          "height": 227
        }
      },
      "execution_count": 44,
      "outputs": [
        {
          "output_type": "error",
          "ename": "NameError",
          "evalue": "ignored",
          "traceback": [
            "\u001b[1;31m---------------------------------------------------------------------------\u001b[0m",
            "\u001b[1;31mNameError\u001b[0m                                 Traceback (most recent call last)",
            "Cell \u001b[1;32mIn[44], line 2\u001b[0m\n\u001b[0;32m      1\u001b[0m hdbscan \u001b[38;5;241m=\u001b[39m HDBSCAN(min_cluster_size\u001b[38;5;241m=\u001b[39m\u001b[38;5;241m2\u001b[39m, cluster_selection_epsilon\u001b[38;5;241m=\u001b[39m\u001b[38;5;241m1\u001b[39m)\n\u001b[1;32m----> 2\u001b[0m customer_agg_data[\u001b[38;5;124m'\u001b[39m\u001b[38;5;124mhdbscan_cluster\u001b[39m\u001b[38;5;124m'\u001b[39m] \u001b[38;5;241m=\u001b[39m hdbscan\u001b[38;5;241m.\u001b[39mfit_predict(scaled_features)\n\u001b[0;32m      4\u001b[0m \u001b[38;5;66;03m# Visualizing the clusters\u001b[39;00m\n\u001b[0;32m      5\u001b[0m plt\u001b[38;5;241m.\u001b[39mfigure(figsize\u001b[38;5;241m=\u001b[39m(\u001b[38;5;241m10\u001b[39m, \u001b[38;5;241m6\u001b[39m))\n",
            "\u001b[1;31mNameError\u001b[0m: name 'customer_agg_data' is not defined"
          ]
        }
      ]
    },
    {
      "cell_type": "code",
      "source": [
        "from sklearn.decomposition import PCA\n",
        "import matplotlib.pyplot as plt\n",
        "\n",
        "# Applying PCA to reduce the dimensions to 2\n",
        "pca = PCA(n_components=2)\n",
        "reduced_data = pca.fit_transform(scaled_features)\n",
        "\n",
        "# Extracting the two principal components for visualization\n",
        "pc1 = reduced_data[:, 0]\n",
        "pc2 = reduced_data[:, 1]\n",
        "\n",
        "pca.explained_variance_ratio_"
      ],
      "metadata": {
        "id": "-_vWUmEAL0DD"
      },
      "execution_count": null,
      "outputs": []
    },
    {
      "cell_type": "code",
      "source": [
        "# Assuming 'clusters' contains the cluster labels\n",
        "plt.figure(figsize=(10, 6))\n",
        "plt.scatter(pc1, pc2, c=clusters, cmap='viridis', marker='o', edgecolor='k', s=70, alpha=0.7)\n",
        "plt.title('Cluster Visualization using PCA')\n",
        "plt.xlabel('Principal Component 1')\n",
        "plt.ylabel('Principal Component 2')\n",
        "plt.colorbar(label='Cluster Label')\n",
        "plt.show()"
      ],
      "metadata": {
        "id": "bQe6pnpXL4HB"
      },
      "execution_count": null,
      "outputs": []
    }
  ]
}