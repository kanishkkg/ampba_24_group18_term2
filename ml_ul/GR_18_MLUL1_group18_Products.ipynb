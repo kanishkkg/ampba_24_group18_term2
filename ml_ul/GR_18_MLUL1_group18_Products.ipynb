{
 "cells": [
  {
   "cell_type": "markdown",
   "id": "a0be5187",
   "metadata": {},
   "source": [
    "## Part (1/2) - Exploratory Data Analysis and Customer Segementation"
   ]
  },
  {
   "cell_type": "markdown",
   "id": "c281b7a7",
   "metadata": {},
   "source": [
    "### Installing relevant libraries"
   ]
  },
  {
   "cell_type": "code",
   "execution_count": 1,
   "id": "0c652bea",
   "metadata": {},
   "outputs": [],
   "source": [
    "import pandas as pd\n",
    "import numpy as np\n",
    "import string\n",
    "\n",
    "from sklearn.cluster import KMeans, AgglomerativeClustering, HDBSCAN\n",
    "from sklearn.preprocessing import StandardScaler\n",
    "from sklearn.metrics import silhouette_score\n",
    "\n",
    "from matplotlib import pyplot as plt\n",
    "import seaborn as sns\n",
    "\n",
    "import warnings\n",
    "warnings.filterwarnings('ignore')"
   ]
  },
  {
   "cell_type": "markdown",
   "id": "ce5c7934",
   "metadata": {},
   "source": [
    "### Reading the data"
   ]
  },
  {
   "cell_type": "code",
   "execution_count": 2,
   "id": "16ce5c33",
   "metadata": {},
   "outputs": [],
   "source": [
    "base_data = pd.read_csv(r\"C:\\Users\\u361262\\OneDrive - United Airlines\\Desktop\\ISB\\Term 2\\Machine Learning UL\\Champo Carpets V1.csv\")"
   ]
  }
 ],
 "metadata": {
  "kernelspec": {
   "display_name": "Python 3 (ipykernel)",
   "language": "python",
   "name": "python3"
  },
  "language_info": {
   "codemirror_mode": {
    "name": "ipython",
    "version": 3
   },
   "file_extension": ".py",
   "mimetype": "text/x-python",
   "name": "python",
   "nbconvert_exporter": "python",
   "pygments_lexer": "ipython3",
   "version": "3.11.4"
  }
 },
 "nbformat": 4,
 "nbformat_minor": 5
}
