{
 "cells": [
  {
   "cell_type": "code",
   "execution_count": 3,
   "id": "76d22110",
   "metadata": {},
   "outputs": [
    {
     "name": "stdout",
     "output_type": "stream",
     "text": [
      "3176\n",
      "{'overall': 5.0, 'verified': True, 'reviewTime': '09 4, 2015', 'reviewerID': 'ALJ66O1Y6SLHA', 'asin': 'B000K2PJ4K', 'style': {'Size:': ' Big Boys', 'Color:': ' Blue/Orange'}, 'reviewerName': 'Tonya B.', 'reviewText': 'Great product and price!', 'summary': 'Five Stars', 'unixReviewTime': 1441324800}\n"
     ]
    }
   ],
   "source": [
    "import os\n",
    "import json\n",
    "import gzip\n",
    "import pandas as pd\n",
    "\n",
    "data = []\n",
    "with gzip.open(r\"C:\\Users\\u361262\\OneDrive - United Airlines\\Desktop\\ISB\\Term 2\\github_codes\\text_analytics\\AMAZON_FASHION_5.json.gz\") as f:\n",
    "    for l in f:\n",
    "        data.append(json.loads(l.strip()))\n",
    "    \n",
    "# total length of list, this number equals total number of products\n",
    "print(len(data))\n",
    "\n",
    "# first row of the list\n",
    "print(data[0])"
   ]
  },
  {
   "cell_type": "code",
   "execution_count": 9,
   "id": "261e2663",
   "metadata": {},
   "outputs": [
    {
     "data": {
      "text/html": [
       "<div>\n",
       "<style scoped>\n",
       "    .dataframe tbody tr th:only-of-type {\n",
       "        vertical-align: middle;\n",
       "    }\n",
       "\n",
       "    .dataframe tbody tr th {\n",
       "        vertical-align: top;\n",
       "    }\n",
       "\n",
       "    .dataframe thead th {\n",
       "        text-align: right;\n",
       "    }\n",
       "</style>\n",
       "<table border=\"1\" class=\"dataframe\">\n",
       "  <thead>\n",
       "    <tr style=\"text-align: right;\">\n",
       "      <th></th>\n",
       "      <th>overall</th>\n",
       "      <th>verified</th>\n",
       "      <th>reviewTime</th>\n",
       "      <th>reviewerID</th>\n",
       "      <th>asin</th>\n",
       "      <th>style</th>\n",
       "      <th>reviewerName</th>\n",
       "      <th>reviewText</th>\n",
       "      <th>summary</th>\n",
       "      <th>unixReviewTime</th>\n",
       "      <th>vote</th>\n",
       "      <th>image</th>\n",
       "    </tr>\n",
       "  </thead>\n",
       "  <tbody>\n",
       "    <tr>\n",
       "      <th>2391</th>\n",
       "      <td>5.0</td>\n",
       "      <td>True</td>\n",
       "      <td>04 24, 2018</td>\n",
       "      <td>A1OWUKMLTHKYG</td>\n",
       "      <td>B010RRWKT4</td>\n",
       "      <td>{'Size:': ' 9.5 B(M) US', 'Color:': ' Black/Wh...</td>\n",
       "      <td>Alison</td>\n",
       "      <td>In really like these. I wear between a 9-9.5 w...</td>\n",
       "      <td>Great Shoe</td>\n",
       "      <td>1524528000</td>\n",
       "      <td>NaN</td>\n",
       "      <td>NaN</td>\n",
       "    </tr>\n",
       "    <tr>\n",
       "      <th>459</th>\n",
       "      <td>5.0</td>\n",
       "      <td>True</td>\n",
       "      <td>09 9, 2016</td>\n",
       "      <td>AMDBCZOTA9PVG</td>\n",
       "      <td>B001IKJOLW</td>\n",
       "      <td>{'Size:': ' 8.5 B(M) US', 'Color:': ' Black/Wh...</td>\n",
       "      <td>Megan</td>\n",
       "      <td>Fit like gloves to my feet! Perfect for workouts.</td>\n",
       "      <td>Five Stars</td>\n",
       "      <td>1473379200</td>\n",
       "      <td>NaN</td>\n",
       "      <td>NaN</td>\n",
       "    </tr>\n",
       "  </tbody>\n",
       "</table>\n",
       "</div>"
      ],
      "text/plain": [
       "      overall  verified   reviewTime     reviewerID        asin  \\\n",
       "2391      5.0      True  04 24, 2018  A1OWUKMLTHKYG  B010RRWKT4   \n",
       "459       5.0      True   09 9, 2016  AMDBCZOTA9PVG  B001IKJOLW   \n",
       "\n",
       "                                                  style reviewerName  \\\n",
       "2391  {'Size:': ' 9.5 B(M) US', 'Color:': ' Black/Wh...       Alison   \n",
       "459   {'Size:': ' 8.5 B(M) US', 'Color:': ' Black/Wh...        Megan   \n",
       "\n",
       "                                             reviewText     summary  \\\n",
       "2391  In really like these. I wear between a 9-9.5 w...  Great Shoe   \n",
       "459   Fit like gloves to my feet! Perfect for workouts.  Five Stars   \n",
       "\n",
       "      unixReviewTime vote image  \n",
       "2391      1524528000  NaN   NaN  \n",
       "459       1473379200  NaN   NaN  "
      ]
     },
     "execution_count": 9,
     "metadata": {},
     "output_type": "execute_result"
    }
   ],
   "source": [
    "df = pd.DataFrame.from_dict(data)\n",
    "df.sample(2)"
   ]
  },
  {
   "cell_type": "code",
   "execution_count": 1,
   "id": "39c86506",
   "metadata": {},
   "outputs": [],
   "source": [
    "# test comment"
   ]
  }
 ],
 "metadata": {
  "kernelspec": {
   "display_name": "Python 3 (ipykernel)",
   "language": "python",
   "name": "python3"
  },
  "language_info": {
   "codemirror_mode": {
    "name": "ipython",
    "version": 3
   },
   "file_extension": ".py",
   "mimetype": "text/x-python",
   "name": "python",
   "nbconvert_exporter": "python",
   "pygments_lexer": "ipython3",
   "version": "3.10.9"
  }
 },
 "nbformat": 4,
 "nbformat_minor": 5
}
