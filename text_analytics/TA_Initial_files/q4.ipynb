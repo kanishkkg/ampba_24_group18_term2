{
 "cells": [
  {
   "cell_type": "code",
   "execution_count": 1,
   "id": "931fb7b1",
   "metadata": {},
   "outputs": [],
   "source": [
    "# Download required libraries"
   ]
  },
  {
   "cell_type": "code",
   "execution_count": 2,
   "id": "9c78bb16",
   "metadata": {},
   "outputs": [],
   "source": [
    "# !pip install spacy\n",
    "# !python -m spacy download en_core_web_sm"
   ]
  },
  {
   "cell_type": "markdown",
   "id": "f62bbdb7",
   "metadata": {},
   "source": [
    "# Import required libraries"
   ]
  },
  {
   "cell_type": "code",
   "execution_count": 3,
   "id": "e01fffcc",
   "metadata": {},
   "outputs": [],
   "source": [
    "import pandas as pd\n",
    "import string\n",
    "import re\n",
    "from sklearn.feature_extraction.text import TfidfVectorizer\n",
    "import warnings\n",
    "warnings.filterwarnings('ignore')\n",
    "import spacy\n",
    "nlp = spacy.load(\"en_core_web_sm\")"
   ]
  },
  {
   "cell_type": "markdown",
   "id": "5b753902",
   "metadata": {},
   "source": [
    "# Read combined data"
   ]
  },
  {
   "cell_type": "code",
   "execution_count": 4,
   "id": "0c1a18b9",
   "metadata": {},
   "outputs": [
    {
     "data": {
      "text/html": [
       "<div>\n",
       "<style scoped>\n",
       "    .dataframe tbody tr th:only-of-type {\n",
       "        vertical-align: middle;\n",
       "    }\n",
       "\n",
       "    .dataframe tbody tr th {\n",
       "        vertical-align: top;\n",
       "    }\n",
       "\n",
       "    .dataframe thead th {\n",
       "        text-align: right;\n",
       "    }\n",
       "</style>\n",
       "<table border=\"1\" class=\"dataframe\">\n",
       "  <thead>\n",
       "    <tr style=\"text-align: right;\">\n",
       "      <th></th>\n",
       "      <th>Unnamed: 0</th>\n",
       "      <th>overall</th>\n",
       "      <th>reviewText</th>\n",
       "    </tr>\n",
       "  </thead>\n",
       "  <tbody>\n",
       "    <tr>\n",
       "      <th>0</th>\n",
       "      <td>0</td>\n",
       "      <td>5.0</td>\n",
       "      <td>It's good for beginners</td>\n",
       "    </tr>\n",
       "    <tr>\n",
       "      <th>1</th>\n",
       "      <td>1</td>\n",
       "      <td>5.0</td>\n",
       "      <td>I recommend this starter Ukulele kit.  I has e...</td>\n",
       "    </tr>\n",
       "  </tbody>\n",
       "</table>\n",
       "</div>"
      ],
      "text/plain": [
       "   Unnamed: 0  overall                                         reviewText\n",
       "0           0      5.0                            It's good for beginners\n",
       "1           1      5.0  I recommend this starter Ukulele kit.  I has e..."
      ]
     },
     "execution_count": 4,
     "metadata": {},
     "output_type": "execute_result"
    }
   ],
   "source": [
    "combined_data=pd.read_csv(r\"C:\\Users\\User\\Downloads\\combined_data_group18.csv\")\n",
    "combined_data.head(2)"
   ]
  },
  {
   "cell_type": "code",
   "execution_count": 5,
   "id": "a746dffe",
   "metadata": {},
   "outputs": [],
   "source": [
    "combined_data['reviewText'] = combined_data['reviewText'].astype(str)"
   ]
  },
  {
   "cell_type": "code",
   "execution_count": 10,
   "id": "4cfe5f2b",
   "metadata": {},
   "outputs": [
    {
     "name": "stdout",
     "output_type": "stream",
     "text": [
      "Binary Classification Report:\n",
      "              precision    recall  f1-score   support\n",
      "\n",
      "           0       0.79      0.56      0.66     98496\n",
      "           1       0.79      0.92      0.85    173470\n",
      "\n",
      "    accuracy                           0.79    271966\n",
      "   macro avg       0.79      0.74      0.75    271966\n",
      "weighted avg       0.79      0.79      0.78    271966\n",
      "\n",
      "Accuracy: 0.7874550495282499\n",
      "\n",
      "Five-Class Classification Report:\n",
      "              precision    recall  f1-score   support\n",
      "\n",
      "         1.0       0.71      0.25      0.36     17839\n",
      "         2.0       0.33      0.00      0.00     13002\n",
      "         3.0       0.40      0.03      0.05     22929\n",
      "         4.0       0.39      0.06      0.11     44726\n",
      "         5.0       0.67      0.99      0.80    173470\n",
      "\n",
      "    accuracy                           0.66    271966\n",
      "   macro avg       0.50      0.27      0.27    271966\n",
      "weighted avg       0.59      0.66      0.56    271966\n",
      "\n",
      "Accuracy: 0.660707588448556\n"
     ]
    }
   ],
   "source": [
    "import pandas as pd\n",
    "from sklearn.model_selection import train_test_split\n",
    "from sklearn.feature_extraction.text import TfidfVectorizer\n",
    "from sklearn.naive_bayes import BernoulliNB,MultinomialNB\n",
    "from sklearn.metrics import classification_report, accuracy_score\n",
    "\n",
    "# Split each category into train (80%) and test (20%)\n",
    "train_data, test_data = train_test_split(combined_data, test_size=0.2, random_state=42)\n",
    "\n",
    "# Create binary labels for binary classification\n",
    "train_data['binary_labels'] = train_data['overall'].apply(lambda x: 1 if x == 5 else 0)\n",
    "test_data['binary_labels'] = test_data['overall'].apply(lambda x: 1 if x == 5 else 0)\n",
    "\n",
    "# TF-IDF Vectorization with a 50K vocabulary\n",
    "vectorizer = TfidfVectorizer(max_features=50000)\n",
    "X_train = vectorizer.fit_transform(train_data['reviewText'])\n",
    "X_test = vectorizer.transform(test_data['reviewText'])\n",
    "\n",
    "# Multinomial Naïve Bayes model for binary classification\n",
    "nb_binary = MultinomialNB()\n",
    "nb_binary.fit(X_train, train_data['binary_labels'])\n",
    "binary_predictions = nb_binary.predict(X_test)\n",
    "\n",
    "# Report binary classification results\n",
    "print(\"Binary Classification Report:\")\n",
    "print(classification_report(test_data['binary_labels'], binary_predictions))\n",
    "print(\"Accuracy:\", accuracy_score(test_data['binary_labels'], binary_predictions))\n",
    "\n",
    "# For five-class classification, use the original ratings as labels\n",
    "# Train the model\n",
    "nb_multiclass = MultinomialNB()\n",
    "nb_multiclass.fit(X_train, train_data['overall'])\n",
    "multiclass_predictions = nb_multiclass.predict(X_test)\n",
    "\n",
    "# Report five-class classification results\n",
    "print(\"\\nFive-Class Classification Report:\")\n",
    "print(classification_report(test_data['overall'], multiclass_predictions))\n",
    "print(\"Accuracy:\", accuracy_score(test_data['overall'], multiclass_predictions))\n"
   ]
  },
  {
   "cell_type": "code",
   "execution_count": null,
   "id": "4b4ef508",
   "metadata": {},
   "outputs": [],
   "source": [
    "excellent cellphone--->5 (1)\n",
    "excellent interface---> ? (1 or 0)---> class 1==0.67; class 2==0.36"
   ]
  }
 ],
 "metadata": {
  "kernelspec": {
   "display_name": "Python 3 (ipykernel)",
   "language": "python",
   "name": "python3"
  },
  "language_info": {
   "codemirror_mode": {
    "name": "ipython",
    "version": 3
   },
   "file_extension": ".py",
   "mimetype": "text/x-python",
   "name": "python",
   "nbconvert_exporter": "python",
   "pygments_lexer": "ipython3",
   "version": "3.11.4"
  }
 },
 "nbformat": 4,
 "nbformat_minor": 5
}
