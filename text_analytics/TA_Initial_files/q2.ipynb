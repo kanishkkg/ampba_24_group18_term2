{
 "cells": [
  {
   "cell_type": "code",
   "execution_count": null,
   "id": "4ffe9c50",
   "metadata": {},
   "outputs": [],
   "source": [
    "# Download required libraries"
   ]
  },
  {
   "cell_type": "code",
   "execution_count": null,
   "id": "7a798f4e",
   "metadata": {},
   "outputs": [],
   "source": [
    "!pip install spacy\n",
    "!python -m spacy download en_core_web_sm"
   ]
  },
  {
   "cell_type": "markdown",
   "id": "f62bbdb7",
   "metadata": {},
   "source": [
    "# Import required libraries"
   ]
  },
  {
   "cell_type": "code",
   "execution_count": 8,
   "id": "e01fffcc",
   "metadata": {},
   "outputs": [],
   "source": [
    "import pandas as pd\n",
    "import string\n",
    "import re\n",
    "from sklearn.feature_extraction.text import TfidfVectorizer\n",
    "import warnings\n",
    "warnings.filterwarnings('ignore')\n",
    "import spacy\n",
    "nlp = spacy.load(\"en_core_web_sm\")"
   ]
  },
  {
   "cell_type": "markdown",
   "id": "5b753902",
   "metadata": {},
   "source": [
    "# Read combined data"
   ]
  },
  {
   "cell_type": "code",
   "execution_count": 2,
   "id": "0c1a18b9",
   "metadata": {},
   "outputs": [
    {
     "data": {
      "text/html": [
       "<div>\n",
       "<style scoped>\n",
       "    .dataframe tbody tr th:only-of-type {\n",
       "        vertical-align: middle;\n",
       "    }\n",
       "\n",
       "    .dataframe tbody tr th {\n",
       "        vertical-align: top;\n",
       "    }\n",
       "\n",
       "    .dataframe thead th {\n",
       "        text-align: right;\n",
       "    }\n",
       "</style>\n",
       "<table border=\"1\" class=\"dataframe\">\n",
       "  <thead>\n",
       "    <tr style=\"text-align: right;\">\n",
       "      <th></th>\n",
       "      <th>Unnamed: 0</th>\n",
       "      <th>overall</th>\n",
       "      <th>reviewText</th>\n",
       "    </tr>\n",
       "  </thead>\n",
       "  <tbody>\n",
       "    <tr>\n",
       "      <th>0</th>\n",
       "      <td>0</td>\n",
       "      <td>5.0</td>\n",
       "      <td>It's good for beginners</td>\n",
       "    </tr>\n",
       "    <tr>\n",
       "      <th>1</th>\n",
       "      <td>1</td>\n",
       "      <td>5.0</td>\n",
       "      <td>I recommend this starter Ukulele kit.  I has e...</td>\n",
       "    </tr>\n",
       "  </tbody>\n",
       "</table>\n",
       "</div>"
      ],
      "text/plain": [
       "   Unnamed: 0  overall                                         reviewText\n",
       "0           0      5.0                            It's good for beginners\n",
       "1           1      5.0  I recommend this starter Ukulele kit.  I has e..."
      ]
     },
     "execution_count": 2,
     "metadata": {},
     "output_type": "execute_result"
    }
   ],
   "source": [
    "combined_data=pd.read_csv(r\"C:\\Users\\User\\Downloads\\combined_data_group18.csv\")\n",
    "combined_data.head(2)"
   ]
  },
  {
   "cell_type": "code",
   "execution_count": 3,
   "id": "5110979f",
   "metadata": {},
   "outputs": [
    {
     "data": {
      "text/html": [
       "<div>\n",
       "<style scoped>\n",
       "    .dataframe tbody tr th:only-of-type {\n",
       "        vertical-align: middle;\n",
       "    }\n",
       "\n",
       "    .dataframe tbody tr th {\n",
       "        vertical-align: top;\n",
       "    }\n",
       "\n",
       "    .dataframe thead th {\n",
       "        text-align: right;\n",
       "    }\n",
       "</style>\n",
       "<table border=\"1\" class=\"dataframe\">\n",
       "  <thead>\n",
       "    <tr style=\"text-align: right;\">\n",
       "      <th></th>\n",
       "      <th>reviewText</th>\n",
       "    </tr>\n",
       "  </thead>\n",
       "  <tbody>\n",
       "    <tr>\n",
       "      <th>0</th>\n",
       "      <td>It's good for beginners</td>\n",
       "    </tr>\n",
       "    <tr>\n",
       "      <th>1</th>\n",
       "      <td>I recommend this starter Ukulele kit.  I has e...</td>\n",
       "    </tr>\n",
       "  </tbody>\n",
       "</table>\n",
       "</div>"
      ],
      "text/plain": [
       "                                          reviewText\n",
       "0                            It's good for beginners\n",
       "1  I recommend this starter Ukulele kit.  I has e..."
      ]
     },
     "execution_count": 3,
     "metadata": {},
     "output_type": "execute_result"
    }
   ],
   "source": [
    "reviews=combined_data[['reviewText']]\n",
    "reviews.head(2)"
   ]
  },
  {
   "cell_type": "code",
   "execution_count": null,
   "id": "b7c42ab0",
   "metadata": {},
   "outputs": [],
   "source": [
    "# reviews['entity']=''"
   ]
  },
  {
   "cell_type": "code",
   "execution_count": null,
   "id": "59b09f3b",
   "metadata": {},
   "outputs": [],
   "source": [
    "# import spacy\n",
    "\n",
    "# # Load the spaCy NER model\n",
    "# nlp = spacy.load(\"en_core_web_sm\")\n",
    "\n",
    "# for i in range(reviews.shape[0]):\n",
    "#     doc=nlp(reviews['reviewText'].iloc[i])\n",
    "#     reviews['entity'].iloc[i] = [(ent.text,ent.label_) for ent in doc.ents]\n",
    "#     print(reviews['entity'].iloc[i])\n",
    "\n",
    "# # Print the extracted entities\n",
    "# print(reviews)\n",
    "\n"
   ]
  },
  {
   "cell_type": "markdown",
   "id": "0e392bbd",
   "metadata": {},
   "source": [
    "# select first 10 of both categories"
   ]
  },
  {
   "cell_type": "code",
   "execution_count": 5,
   "id": "b02c3d95",
   "metadata": {},
   "outputs": [
    {
     "name": "stdout",
     "output_type": "stream",
     "text": [
      "                                          reviewText\n",
      "0                            It's good for beginners\n",
      "1  I recommend this starter Ukulele kit.  I has e...\n",
      "2  G'daughter received this for Christmas present...\n",
      "3  According to my order history, I bought this t...\n",
      "4  Please pay attention better than I did to the ...\n",
      "5  I purchased this as a gift for a friend who re...\n",
      "6                                           thanx, b\n",
      "7            Good cheap ukulele; got what I ordered.\n",
      "8        My grandson is very happy with his new uke!\n",
      "9                                  Good basic guide.\n",
      "                                               reviewText\n",
      "231392  Looks even better in person. Be careful to not...\n",
      "231393  When you don't want to spend a whole lot of ca...\n",
      "231394  so the case came on time, i love the design. I...\n",
      "231395  DON'T CARE FOR IT.  GAVE IT AS A GIFT AND THEY...\n",
      "231396  I liked it because it was cute, but the studs ...\n",
      "231397  The product looked exactly like the picture an...\n",
      "231398  I FINALLY got my case today. It took forever t...\n",
      "231399  It is a very cute case. None of the jewels hav...\n",
      "231400  DO NOT BUY! this item is seriously cheap as he...\n",
      "231401  I really love this case... you have to keep yo...\n",
      "                                           reviewText\n",
      "0                             It's good for beginners\n",
      "1   I recommend this starter Ukulele kit.  I has e...\n",
      "2   G'daughter received this for Christmas present...\n",
      "3   According to my order history, I bought this t...\n",
      "4   Please pay attention better than I did to the ...\n",
      "5   I purchased this as a gift for a friend who re...\n",
      "6                                            thanx, b\n",
      "7             Good cheap ukulele; got what I ordered.\n",
      "8         My grandson is very happy with his new uke!\n",
      "9                                   Good basic guide.\n",
      "10  Looks even better in person. Be careful to not...\n",
      "11  When you don't want to spend a whole lot of ca...\n",
      "12  so the case came on time, i love the design. I...\n",
      "13  DON'T CARE FOR IT.  GAVE IT AS A GIFT AND THEY...\n",
      "14  I liked it because it was cute, but the studs ...\n",
      "15  The product looked exactly like the picture an...\n",
      "16  I FINALLY got my case today. It took forever t...\n",
      "17  It is a very cute case. None of the jewels hav...\n",
      "18  DO NOT BUY! this item is seriously cheap as he...\n",
      "19  I really love this case... you have to keep yo...\n"
     ]
    }
   ],
   "source": [
    "first_10_musical = reviews.iloc[0:10]\n",
    "first_10_cells = reviews.iloc[231392:231402]\n",
    "# Concatenating the two dataframes vertically\n",
    "reviews_20 = pd.concat([first_10_musical, first_10_cells], ignore_index=True)\n",
    "print('\\n\\nMusical instruments data:\\n\\n',first_10_musical)\n",
    "print('\\n\\nCell phones data:\\n\\n',first_10_cells)\n",
    "print('\\n\\nCombined Data:\\n\\n',reviews_20)"
   ]
  },
  {
   "cell_type": "markdown",
   "id": "6219fae0",
   "metadata": {},
   "source": [
    "# Split each review into sentences below"
   ]
  },
  {
   "cell_type": "code",
   "execution_count": 9,
   "id": "9e605a18",
   "metadata": {},
   "outputs": [
    {
     "name": "stdout",
     "output_type": "stream",
     "text": [
      "     Review_ID                                           Sentence\n",
      "0            1                            It's good for beginners\n",
      "1            2            I recommend this starter Ukulele kit.  \n",
      "2            2   I has everything you\\nneed to learn the Ukulele.\n",
      "3            3  G'daughter received this for Christmas present...\n",
      "4            4  According to my order history, I bought this t...\n",
      "..         ...                                                ...\n",
      "104         19  I didn't even get to use it and it was already...\n",
      "105         19          I wish I got my money back on this item!!\n",
      "106         20                         I really love this case...\n",
      "107         20  you have to keep your phone face down all the ...\n",
      "108         20  Some stones come off from normal use, unless y...\n",
      "\n",
      "[109 rows x 2 columns]\n"
     ]
    }
   ],
   "source": [
    "def detect_sentences(review_id, text):\n",
    "    doc = nlp(text) # convert to corpus\n",
    "    sentences = [sent.text for sent in doc.sents] # list comprehension\n",
    "    return [(review_id, sentence) for sentence in sentences]\n",
    "\n",
    "# Apply the sentence detection function to each row in the dataframe\n",
    "results = []\n",
    "for idx, row in reviews_20.iterrows():\n",
    "    review_id = idx + 1  # Assuming the index starts from 0\n",
    "    sentences = detect_sentences(review_id, row['reviewText'])\n",
    "    results.extend(sentences)\n",
    "\n",
    "# Convert the results to a new dataframe\n",
    "result_df = pd.DataFrame(results, columns=['Review_ID', 'Sentence'])\n",
    "\n",
    "# Display the result dataframe\n",
    "print(result_df)"
   ]
  },
  {
   "cell_type": "code",
   "execution_count": null,
   "id": "5d0edc7c",
   "metadata": {},
   "outputs": [],
   "source": []
  },
  {
   "cell_type": "code",
   "execution_count": null,
   "id": "4b4ef508",
   "metadata": {},
   "outputs": [],
   "source": []
  }
 ],
 "metadata": {
  "kernelspec": {
   "display_name": "Python 3 (ipykernel)",
   "language": "python",
   "name": "python3"
  },
  "language_info": {
   "codemirror_mode": {
    "name": "ipython",
    "version": 3
   },
   "file_extension": ".py",
   "mimetype": "text/x-python",
   "name": "python",
   "nbconvert_exporter": "python",
   "pygments_lexer": "ipython3",
   "version": "3.11.4"
  }
 },
 "nbformat": 4,
 "nbformat_minor": 5
}
