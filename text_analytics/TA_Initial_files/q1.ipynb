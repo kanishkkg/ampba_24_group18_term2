{
 "cells": [
  {
   "cell_type": "markdown",
   "id": "f62bbdb7",
   "metadata": {},
   "source": [
    "# Import required libraries"
   ]
  },
  {
   "cell_type": "code",
   "execution_count": 1,
   "id": "e01fffcc",
   "metadata": {},
   "outputs": [],
   "source": [
    "import pandas as pd\n",
    "import string\n",
    "import re\n",
    "from sklearn.feature_extraction.text import TfidfVectorizer"
   ]
  },
  {
   "cell_type": "markdown",
   "id": "5b753902",
   "metadata": {},
   "source": [
    "# Read combined data"
   ]
  },
  {
   "cell_type": "code",
   "execution_count": 2,
   "id": "0c1a18b9",
   "metadata": {},
   "outputs": [
    {
     "data": {
      "text/html": [
       "<div>\n",
       "<style scoped>\n",
       "    .dataframe tbody tr th:only-of-type {\n",
       "        vertical-align: middle;\n",
       "    }\n",
       "\n",
       "    .dataframe tbody tr th {\n",
       "        vertical-align: top;\n",
       "    }\n",
       "\n",
       "    .dataframe thead th {\n",
       "        text-align: right;\n",
       "    }\n",
       "</style>\n",
       "<table border=\"1\" class=\"dataframe\">\n",
       "  <thead>\n",
       "    <tr style=\"text-align: right;\">\n",
       "      <th></th>\n",
       "      <th>Unnamed: 0</th>\n",
       "      <th>overall</th>\n",
       "      <th>reviewText</th>\n",
       "    </tr>\n",
       "  </thead>\n",
       "  <tbody>\n",
       "    <tr>\n",
       "      <th>0</th>\n",
       "      <td>0</td>\n",
       "      <td>5.0</td>\n",
       "      <td>It's good for beginners</td>\n",
       "    </tr>\n",
       "    <tr>\n",
       "      <th>1</th>\n",
       "      <td>1</td>\n",
       "      <td>5.0</td>\n",
       "      <td>I recommend this starter Ukulele kit.  I has e...</td>\n",
       "    </tr>\n",
       "  </tbody>\n",
       "</table>\n",
       "</div>"
      ],
      "text/plain": [
       "   Unnamed: 0  overall                                         reviewText\n",
       "0           0      5.0                            It's good for beginners\n",
       "1           1      5.0  I recommend this starter Ukulele kit.  I has e..."
      ]
     },
     "execution_count": 2,
     "metadata": {},
     "output_type": "execute_result"
    }
   ],
   "source": [
    "combined_data=pd.read_csv(r\"C:\\Users\\User\\Downloads\\combined_data_group18.csv\")\n",
    "combined_data.head(2)"
   ]
  },
  {
   "cell_type": "code",
   "execution_count": 3,
   "id": "5110979f",
   "metadata": {},
   "outputs": [
    {
     "data": {
      "text/html": [
       "<div>\n",
       "<style scoped>\n",
       "    .dataframe tbody tr th:only-of-type {\n",
       "        vertical-align: middle;\n",
       "    }\n",
       "\n",
       "    .dataframe tbody tr th {\n",
       "        vertical-align: top;\n",
       "    }\n",
       "\n",
       "    .dataframe thead th {\n",
       "        text-align: right;\n",
       "    }\n",
       "</style>\n",
       "<table border=\"1\" class=\"dataframe\">\n",
       "  <thead>\n",
       "    <tr style=\"text-align: right;\">\n",
       "      <th></th>\n",
       "      <th>reviewText</th>\n",
       "    </tr>\n",
       "  </thead>\n",
       "  <tbody>\n",
       "    <tr>\n",
       "      <th>0</th>\n",
       "      <td>It's good for beginners</td>\n",
       "    </tr>\n",
       "    <tr>\n",
       "      <th>1</th>\n",
       "      <td>I recommend this starter Ukulele kit.  I has e...</td>\n",
       "    </tr>\n",
       "  </tbody>\n",
       "</table>\n",
       "</div>"
      ],
      "text/plain": [
       "                                          reviewText\n",
       "0                            It's good for beginners\n",
       "1  I recommend this starter Ukulele kit.  I has e..."
      ]
     },
     "execution_count": 3,
     "metadata": {},
     "output_type": "execute_result"
    }
   ],
   "source": [
    "reviews=combined_data[['reviewText']]\n",
    "reviews.head(2)"
   ]
  },
  {
   "cell_type": "markdown",
   "id": "0e392bbd",
   "metadata": {},
   "source": [
    "# select first 10000 and last 10000 reviews"
   ]
  },
  {
   "cell_type": "code",
   "execution_count": 4,
   "id": "b02c3d95",
   "metadata": {},
   "outputs": [
    {
     "name": "stdout",
     "output_type": "stream",
     "text": [
      "(20000, 1)\n",
      "                                          reviewText\n",
      "0                            It's good for beginners\n",
      "1  I recommend this starter Ukulele kit.  I has e...\n"
     ]
    }
   ],
   "source": [
    "first_10000 = reviews.head(10000)\n",
    "last_10000 = reviews.tail(10000)\n",
    "# Concatenating the two dataframes vertically\n",
    "reviews_20k = pd.concat([first_10000, last_10000], ignore_index=True)\n",
    "print(reviews_20k.shape)\n",
    "print(reviews_20k.head(2))"
   ]
  },
  {
   "cell_type": "code",
   "execution_count": 5,
   "id": "12029d4e",
   "metadata": {},
   "outputs": [
    {
     "name": "stdout",
     "output_type": "stream",
     "text": [
      "<class 'pandas.core.frame.DataFrame'>\n",
      "RangeIndex: 20000 entries, 0 to 19999\n",
      "Data columns (total 1 columns):\n",
      " #   Column      Non-Null Count  Dtype \n",
      "---  ------      --------------  ----- \n",
      " 0   reviewText  19993 non-null  object\n",
      "dtypes: object(1)\n",
      "memory usage: 156.4+ KB\n"
     ]
    }
   ],
   "source": [
    "reviews_20k.info()"
   ]
  },
  {
   "cell_type": "code",
   "execution_count": 6,
   "id": "c855affd",
   "metadata": {},
   "outputs": [],
   "source": [
    "reviews_20k['reviewText'] = reviews_20k['reviewText'].astype(str)"
   ]
  },
  {
   "cell_type": "markdown",
   "id": "647f6b2d",
   "metadata": {},
   "source": [
    "# Lowercasing and removing punctuation"
   ]
  },
  {
   "cell_type": "code",
   "execution_count": 7,
   "id": "2d2e7423",
   "metadata": {},
   "outputs": [
    {
     "name": "stdout",
     "output_type": "stream",
     "text": [
      "                                              reviewText  \\\n",
      "0                                It's good for beginners   \n",
      "1      I recommend this starter Ukulele kit.  I has e...   \n",
      "2      G'daughter received this for Christmas present...   \n",
      "3      According to my order history, I bought this t...   \n",
      "4      Please pay attention better than I did to the ...   \n",
      "...                                                  ...   \n",
      "19995  Good for viewing. But doesn't have a button or...   \n",
      "19996  I was given the Rockrok 3D VR Glasses Headset ...   \n",
      "19997  Super Fun! The RockRoc 3d vr headset is waaaay...   \n",
      "19998  Love it!\\n\\nI've had other VR glasses which al...   \n",
      "19999                                          i love it   \n",
      "\n",
      "                                        processed_review  \n",
      "0                                 its good for beginners  \n",
      "1      i recommend this starter ukulele kit  i has ev...  \n",
      "2      gdaughter received this for christmas present ...  \n",
      "3      according to my order history i bought this th...  \n",
      "4      please pay attention better than i did to the ...  \n",
      "...                                                  ...  \n",
      "19995  good for viewing but doesnt have a button or c...  \n",
      "19996  i was given the rockrok 3d vr glasses headset ...  \n",
      "19997  super fun the rockroc 3d vr headset is waaaay ...  \n",
      "19998  love it\\n\\nive had other vr glasses which all ...  \n",
      "19999                                          i love it  \n",
      "\n",
      "[20000 rows x 2 columns]\n"
     ]
    }
   ],
   "source": [
    "# regex pattern to match any punctuation character\n",
    "\n",
    "# punctuation_pattern = re.compile('[{}]'.format(re.escape(string.punctuation)))\n",
    "\n",
    "def remove_punctuation(text):\n",
    "    translator = str.maketrans('', '', string.punctuation)\n",
    "    return text.translate(translator)\n",
    "\n",
    "# Method to lowercase and remove punctuation\n",
    "def lowercase_text(text):\n",
    "    text_lower = text.lower()  # Lowercasing\n",
    "#     text_no_punct = punctuation_pattern.sub('', text_lower)  # Removing punctuation \n",
    "    return text_lower\n",
    "\n",
    "reviews_20k['processed_review'] = reviews_20k['reviewText'].apply(lowercase_text) # apply method to column\n",
    "reviews_20k['processed_review'] = reviews_20k['processed_review'].apply(remove_punctuation)\n",
    "print(reviews_20k[['reviewText', 'processed_review']])\n"
   ]
  },
  {
   "cell_type": "code",
   "execution_count": null,
   "id": "e8d02e2c",
   "metadata": {},
   "outputs": [],
   "source": [
    "remove \\n "
   ]
  },
  {
   "cell_type": "markdown",
   "id": "94bc28ed",
   "metadata": {},
   "source": [
    "# IDF frequencies"
   ]
  },
  {
   "cell_type": "code",
   "execution_count": 8,
   "id": "c9cf1556",
   "metadata": {},
   "outputs": [
    {
     "name": "stdout",
     "output_type": "stream",
     "text": [
      "Top 30 words based on IDF:\n",
      "                                                    word       idf\n",
      "23789                                              zztop  10.21039\n",
      "8820                                              futile  10.21039\n",
      "8810                                               fused  10.21039\n",
      "16911                                          rearrange  10.21039\n",
      "16910                                         rearpickup  10.21039\n",
      "8813                                           fusion2go  10.21039\n",
      "16909                                            rearend  10.21039\n",
      "8815                                             fussing  10.21039\n",
      "16908                                           rearback  10.21039\n",
      "8817                                           fustrated  10.21039\n",
      "8818                                          fustration  10.21039\n",
      "8819                                              futher  10.21039\n",
      "16906                                         reapplying  10.21039\n",
      "16849                                                rbx  10.21039\n",
      "16903                                        reappearing  10.21039\n",
      "8823   futurehttpsmileamazoncomg7thperformancecapostr...  10.21039\n",
      "16899                                             realty  10.21039\n",
      "8826                                          fuzzvolume  10.21039\n",
      "16898                                         realtively  10.21039\n",
      "8828                                              fv500l  10.21039\n",
      "8829                                               fv50h  10.21039\n",
      "8830                                               fv50l  10.21039\n",
      "16897                                            realtek  10.21039\n",
      "16896                                              realm  10.21039\n",
      "8809                                                fuse  10.21039\n",
      "16912                                         rearranged  10.21039\n",
      "16913                                        rearranging  10.21039\n",
      "16914                                              reaso  10.21039\n",
      "8782                                           functioni  10.21039\n",
      "16930                                             rebate  10.21039\n",
      "\n",
      "Bottom 30 words based on IDF:\n",
      "        word       idf\n",
      "15432  phone  2.925912\n",
      "23097   well  2.925227\n",
      "14533    one  2.880969\n",
      "3989    case  2.880641\n",
      "22945    was  2.873453\n",
      "12244   like  2.870528\n",
      "11389    its  2.865671\n",
      "19355     so  2.800951\n",
      "2159     are  2.740736\n",
      "2240      as  2.705173\n",
      "22614   very  2.699686\n",
      "23683    you  2.624855\n",
      "9228    good  2.591402\n",
      "9835    have  2.517137\n",
      "21005   that  2.496382\n",
      "14195    not  2.471031\n",
      "9375   great  2.408794\n",
      "10802     in  2.385745\n",
      "23346   with  2.365366\n",
      "3669     but  2.349627\n",
      "14523     on  2.315141\n",
      "14412     of  2.199035\n",
      "13789     my  2.105989\n",
      "11322     is  2.104027\n",
      "21129   this  2.061367\n",
      "8514     for  1.995519\n",
      "11350     it  1.855010\n",
      "21366     to  1.845999\n",
      "1916     and  1.683940\n",
      "21012    the  1.620783\n"
     ]
    }
   ],
   "source": [
    "vectorizer = TfidfVectorizer() # Initialize the Tf-idf vectorizer\n",
    "tfidf_matrix = vectorizer.fit_transform(reviews_20k['processed_review']) #TF-IDF Matrix\n",
    "words = vectorizer.get_feature_names_out()\n",
    "\n",
    "# Compute IDF values\n",
    "idf_values = vectorizer.idf_\n",
    "\n",
    "\n",
    "idf_df = pd.DataFrame({'word': words, 'idf': idf_values}) # DataFrame with words and their IDF values\n",
    "\n",
    "idf_df_sorted = idf_df.sort_values(by='idf', ascending=False)# Sort based on IDF values\n",
    "top_30_words = idf_df_sorted.head(30)\n",
    "bottom_30_words = idf_df_sorted.tail(30)\n",
    "\n",
    "print(\"Top 30 words based on IDF:\")\n",
    "print(top_30_words)\n",
    "\n",
    "print(\"\\nBottom 30 words based on IDF:\")\n",
    "print(bottom_30_words)\n"
   ]
  },
  {
   "cell_type": "code",
   "execution_count": null,
   "id": "4b4ef508",
   "metadata": {},
   "outputs": [],
   "source": []
  }
 ],
 "metadata": {
  "kernelspec": {
   "display_name": "Python 3 (ipykernel)",
   "language": "python",
   "name": "python3"
  },
  "language_info": {
   "codemirror_mode": {
    "name": "ipython",
    "version": 3
   },
   "file_extension": ".py",
   "mimetype": "text/x-python",
   "name": "python",
   "nbconvert_exporter": "python",
   "pygments_lexer": "ipython3",
   "version": "3.11.4"
  }
 },
 "nbformat": 4,
 "nbformat_minor": 5
}
